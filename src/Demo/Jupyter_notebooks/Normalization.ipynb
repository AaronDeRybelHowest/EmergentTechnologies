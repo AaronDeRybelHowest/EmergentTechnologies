{
 "cells": [
  {
   "cell_type": "markdown",
   "metadata": {
    "collapsed": true
   },
   "source": [
    "This Demo is to show the normalization of a numpy array.\n",
    "We are working with numpy arrays here and not pandas Dataframes.\n",
    " \n",
    "The rescaling function will also work with pandas dataframes, this is how we use \n",
    "it in further exercices. \n",
    "Applying the Scaler to a pandas Dataframe returns a numpy array.\n",
    "\n",
    "Read Documentation for more details on the scaler we use here: Minmaxscaler. "
   ]
  },
  {
   "cell_type": "code",
   "execution_count": 1,
   "metadata": {},
   "outputs": [],
   "source": [
    "#import some pâckages\n",
    "import matplotlib.pyplot as plt\n",
    "from sklearn.preprocessing import MinMaxScaler\n",
    "import numpy as np\n",
    "%matplotlib inline"
   ]
  },
  {
   "cell_type": "markdown",
   "metadata": {},
   "source": [
    "We create two numpy arrays containing some points that follow the 'normal/gaussian distribution'. \n",
    "Values that follow this ditribution are f.e. : length of a person, measurement errors, ...\n",
    "\n",
    "For further explaination take a look at: https://www.mathsisfun.com/data/standard-normal-distribution.html\n",
    "Just informative not required to know."
   ]
  },
  {
   "cell_type": "code",
   "execution_count": 2,
   "metadata": {},
   "outputs": [],
   "source": [
    "#Create two arrays that have large and small spread in values.\n",
    "large_spread = np.random.normal(loc=1.0, scale=50, size=1000)\n",
    "small_spread = np.random.normal(loc=1.5, scale=3, size=1000)"
   ]
  },
  {
   "cell_type": "markdown",
   "metadata": {},
   "source": [
    "Visualizing the two set of arrays using a histogram give us an idea how the values are \n",
    "spread out. You can play with the number of bins, colors, etc."
   ]
  },
  {
   "cell_type": "code",
   "execution_count": 3,
   "metadata": {},
   "outputs": [
    {
     "data": {
      "image/png": "[encoded data removed]",
      "text/plain": [
       "<Figure size 432x288 with 1 Axes>"
      ]
     },
     "metadata": {
      "needs_background": "light"
     },
     "output_type": "display_data"
    }
   ],
   "source": [
    "plt.figure()\n",
    "plt.hist(large_spread,color='g', bins= 300)\n",
    "plt.hist(small_spread, color='b', bins= 300)\n",
    "plt.show()"
   ]
  },
  {
   "cell_type": "markdown",
   "metadata": {},
   "source": [
    "Values of the large spread are far apart and have very high and very low values.\n",
    "If this was a dataset with two collumns. One with small spread and one with large spread. The large spread would\n",
    "completely determine the outcome of the algorithm. \n",
    "The scale of different collumns should be similar enough to work with.\n",
    "\n",
    "In the following block we apply the MinMaxScaler who by default rescales values to interval [0,1] "
   ]
  },
  {
   "cell_type": "code",
   "execution_count": 4,
   "metadata": {},
   "outputs": [],
   "source": [
    "#The fit_transform method expects arrays of the shape (n,1).\n",
    "#n is the size of the array (1000 in this case)\n",
    "#The reshape function is used to achieve this.\n",
    "scaler = MinMaxScaler()\n",
    "large_spread = scaler.fit_transform(large_spread.reshape((-1, 1)))\n",
    "small_spread = scaler.fit_transform(small_spread.reshape((-1, 1)))"
   ]
  },
  {
   "cell_type": "markdown",
   "metadata": {},
   "source": [
    "Plot figure again with rescaled values"
   ]
  },
  {
   "cell_type": "code",
   "execution_count": 5,
   "metadata": {},
   "outputs": [
    {
     "data": {
      "image/png": "[encoded data removed]",
      "text/plain": [
       "<Figure size 432x288 with 1 Axes>"
      ]
     },
     "metadata": {
      "needs_background": "light"
     },
     "output_type": "display_data"
    }
   ],
   "source": [
    "plt.figure()\n",
    "plt.hist(large_spread,color='g', bins= 300)\n",
    "plt.hist(small_spread, color='b', bins= 300)\n",
    "plt.show()"
   ]
  },
  {
   "cell_type": "code",
   "execution_count": null,
   "metadata": {},
   "outputs": [],
   "source": []
  }
 ],
 "metadata": {
  "kernelspec": {
   "display_name": "Python 3",
   "language": "python",
   "name": "python3"
  },
  "language_info": {
   "codemirror_mode": {
    "name": "ipython",
    "version": 3
   },
   "file_extension": ".py",
   "mimetype": "text/x-python",
   "name": "python",
   "nbconvert_exporter": "python",
   "pygments_lexer": "ipython3",
   "version": "3.6.5"
  }
 },
 "nbformat": 4,
 "nbformat_minor": 1
}
